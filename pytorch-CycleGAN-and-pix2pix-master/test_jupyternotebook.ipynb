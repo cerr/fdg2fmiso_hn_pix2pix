{
 "cells": [
  {
   "cell_type": "code",
   "execution_count": 4,
   "metadata": {},
   "outputs": [
    {
     "name": "stdout",
     "output_type": "stream",
     "text": [
      "torch imported\n",
      "False\n"
     ]
    }
   ],
   "source": [
    "import torch\n",
    "print('torch imported')\n",
    "print(torch.cuda.is_available())"
   ]
  }
 ],
 "metadata": {
  "interpreter": {
   "hash": "2684e011bdc80bd5c49dbce0f7c1ae82e1fa388e3943ea22d1229fe80309f5e1"
  },
  "kernelspec": {
   "display_name": "Python 3.8.12 ('base')",
   "language": "python",
   "name": "python3"
  },
  "language_info": {
   "codemirror_mode": {
    "name": "ipython",
    "version": 3
   },
   "file_extension": ".py",
   "mimetype": "text/x-python",
   "name": "python",
   "nbconvert_exporter": "python",
   "pygments_lexer": "ipython3",
   "version": "3.8.12"
  },
  "orig_nbformat": 4
 },
 "nbformat": 4,
 "nbformat_minor": 2
}
